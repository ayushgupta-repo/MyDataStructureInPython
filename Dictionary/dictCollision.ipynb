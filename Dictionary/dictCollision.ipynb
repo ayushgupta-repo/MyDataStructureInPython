{
 "cells": [
  {
   "cell_type": "code",
   "execution_count": 21,
   "metadata": {},
   "outputs": [],
   "source": [
    "stock_prices = {}\n",
    "with open('stock_price.csv', 'r') as f:\n",
    "    for line in f:\n",
    "        tokens = line.split(',')\n",
    "        day = tokens[0]\n",
    "        price = float(tokens[1])\n",
    "        stock_prices[day] = price"
   ]
  },
  {
   "cell_type": "code",
   "execution_count": 22,
   "metadata": {},
   "outputs": [
    {
     "data": {
      "text/plain": [
       "{'march 6': 310.0,\n",
       " 'march 7': 340.0,\n",
       " 'march 8': 380.0,\n",
       " 'march 9': 302.0,\n",
       " 'march 10': 297.0,\n",
       " 'march 11': 323.0}"
      ]
     },
     "execution_count": 22,
     "metadata": {},
     "output_type": "execute_result"
    }
   ],
   "source": [
    "stock_prices"
   ]
  },
  {
   "cell_type": "code",
   "execution_count": 24,
   "metadata": {},
   "outputs": [
    {
     "data": {
      "text/plain": [
       "302.0"
      ]
     },
     "execution_count": 24,
     "metadata": {},
     "output_type": "execute_result"
    }
   ],
   "source": [
    "stock_prices['march 9'] # It is efficient from list as it do not traverse through each key-value pairs in memory it is stored on the basis of index calculated by hash function."
   ]
  },
  {
   "cell_type": "code",
   "execution_count": 25,
   "metadata": {},
   "outputs": [],
   "source": [
    "# creating hasf function based on ASCII value\n",
    "def get_hash(key):\n",
    "    h = 0\n",
    "    for char in key:\n",
    "        h += ord(char)\n",
    "    return h % 100 # where 100 is size of list\n",
    "\n",
    "# Blank/Whitespace is used as 32 in ASCII"
   ]
  },
  {
   "cell_type": "code",
   "execution_count": 28,
   "metadata": {},
   "outputs": [
    {
     "data": {
      "text/plain": [
       "61"
      ]
     },
     "execution_count": 28,
     "metadata": {},
     "output_type": "execute_result"
    }
   ],
   "source": [
    "get_hash('march 28')"
   ]
  },
  {
   "cell_type": "code",
   "execution_count": 105,
   "metadata": {},
   "outputs": [],
   "source": [
    "class HashTable:\n",
    "    def __init__(self):\n",
    "        self.MAX = 10\n",
    "        # self.arr = [None for i in range(self.MAX)]\n",
    "        # To avoid collision we are using linkedlist so we are creating empty list\n",
    "        self.arr = [[] for i in range(self.MAX)]\n",
    "    def get_hash(self, key):\n",
    "        h = 0\n",
    "        for char in key:\n",
    "            h += ord(char)\n",
    "        return h % self.MAX\n",
    "\n",
    "    def __setitem__(self, key, val):\n",
    "        h = self.get_hash(key) # retrieve hash\n",
    "        # self.arr[h] = val # assigning value to index\n",
    "        \n",
    "        found = False\n",
    "\n",
    "        # CASE-1: Updating same index value\n",
    "        for idx, element in enumerate(self.arr[h]):\n",
    "\n",
    "            # Checking if updation is occuring for the same key\n",
    "            if len(element)==2 and element[0] == key:\n",
    "                self.arr[h][idx] = (key, val)\n",
    "                found = True\n",
    "                break\n",
    "        \n",
    "        # for the new key-value pair\n",
    "        if not found:\n",
    "            self.arr[h].append((key, val)) # storing pair in order to retrieve individual pair using key\n",
    "\n",
    "    def __getitem__(self, key):\n",
    "        h = self.get_hash(key) # retrieve hash\n",
    "        \n",
    "        for element in self.arr[h]:\n",
    "            if element[0] == key:\n",
    "                return element[1]# returning value\n",
    "\n",
    "    def __delitem__(self, key):\n",
    "        h = self.get_hash(key) # retrieve hash\n",
    "        for index, element in enumerate(self.arr[h]):\n",
    "            if element[0] == key:\n",
    "                del self.arr[h][index]"
   ]
  },
  {
   "cell_type": "code",
   "execution_count": 119,
   "metadata": {},
   "outputs": [],
   "source": [
    "t = HashTable()\n",
    "t['march 6'] = 120 # returns 9\n",
    "t['march 1'] = 20\n",
    "t['march 8'] = 27\n",
    "t['march 17'] = 540 # due to collision with march 6 it overrides its value"
   ]
  },
  {
   "cell_type": "code",
   "execution_count": 120,
   "metadata": {},
   "outputs": [
    {
     "data": {
      "text/plain": [
       "[[],\n",
       " [('march 8', 27)],\n",
       " [],\n",
       " [],\n",
       " [('march 1', 20)],\n",
       " [],\n",
       " [],\n",
       " [],\n",
       " [],\n",
       " [('march 6', 120), ('march 17', 540)]]"
      ]
     },
     "execution_count": 120,
     "metadata": {},
     "output_type": "execute_result"
    }
   ],
   "source": [
    "t.arr"
   ]
  },
  {
   "cell_type": "code",
   "execution_count": 121,
   "metadata": {},
   "outputs": [
    {
     "data": {
      "text/plain": [
       "120"
      ]
     },
     "execution_count": 121,
     "metadata": {},
     "output_type": "execute_result"
    }
   ],
   "source": [
    "t['march 6']"
   ]
  },
  {
   "cell_type": "code",
   "execution_count": 122,
   "metadata": {},
   "outputs": [],
   "source": [
    "del t['march 17']"
   ]
  },
  {
   "cell_type": "code",
   "execution_count": 123,
   "metadata": {},
   "outputs": [
    {
     "data": {
      "text/plain": [
       "[[],\n",
       " [('march 8', 27)],\n",
       " [],\n",
       " [],\n",
       " [('march 1', 20)],\n",
       " [],\n",
       " [],\n",
       " [],\n",
       " [],\n",
       " [('march 6', 120)]]"
      ]
     },
     "execution_count": 123,
     "metadata": {},
     "output_type": "execute_result"
    }
   ],
   "source": [
    "t.arr"
   ]
  },
  {
   "cell_type": "code",
   "execution_count": 125,
   "metadata": {},
   "outputs": [],
   "source": [
    "del t['march 6']"
   ]
  },
  {
   "cell_type": "code",
   "execution_count": 126,
   "metadata": {},
   "outputs": [
    {
     "data": {
      "text/plain": [
       "[[], [('march 8', 27)], [], [], [('march 1', 20)], [], [], [], [], []]"
      ]
     },
     "execution_count": 126,
     "metadata": {},
     "output_type": "execute_result"
    }
   ],
   "source": [
    "t.arr"
   ]
  }
 ],
 "metadata": {
  "kernelspec": {
   "display_name": "Python 3.10.4 64-bit",
   "language": "python",
   "name": "python3"
  },
  "language_info": {
   "codemirror_mode": {
    "name": "ipython",
    "version": 3
   },
   "file_extension": ".py",
   "mimetype": "text/x-python",
   "name": "python",
   "nbconvert_exporter": "python",
   "pygments_lexer": "ipython3",
   "version": "3.10.4"
  },
  "orig_nbformat": 4,
  "vscode": {
   "interpreter": {
    "hash": "8c3d4d9970fc5c09c50d9318a9c7fbf4d0159e4b28833276f5678ee22bded273"
   }
  }
 },
 "nbformat": 4,
 "nbformat_minor": 2
}
